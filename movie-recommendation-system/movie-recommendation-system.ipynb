{
 "cells": [
  {
   "cell_type": "markdown",
   "id": "805285f3",
   "metadata": {},
   "source": [
    "# Building a Movie Recommendation System"
   ]
  },
  {
   "cell_type": "code",
   "execution_count": 1,
   "id": "b05a1a41",
   "metadata": {},
   "outputs": [],
   "source": [
    "import pandas as pd\n",
    "import numpy as np\n",
    "import regex\n",
    "from sklearn.feature_extraction.text import TfidfVectorizer\n",
    "from sklearn.metrics.pairwise import cosine_similarity\n",
    "import ipywidgets as widgets\n",
    "from IPython.display import display"
   ]
  },
  {
   "cell_type": "markdown",
   "id": "0652c0f7",
   "metadata": {},
   "source": [
    "## Exploring the Data"
   ]
  },
  {
   "cell_type": "code",
   "execution_count": 2,
   "id": "169df2d8",
   "metadata": {},
   "outputs": [],
   "source": [
    "movies = pd.read_csv('movies.csv')"
   ]
  },
  {
   "cell_type": "code",
   "execution_count": 3,
   "id": "725500b4",
   "metadata": {},
   "outputs": [
    {
     "data": {
      "text/html": [
       "<div>\n",
       "<style scoped>\n",
       "    .dataframe tbody tr th:only-of-type {\n",
       "        vertical-align: middle;\n",
       "    }\n",
       "\n",
       "    .dataframe tbody tr th {\n",
       "        vertical-align: top;\n",
       "    }\n",
       "\n",
       "    .dataframe thead th {\n",
       "        text-align: right;\n",
       "    }\n",
       "</style>\n",
       "<table border=\"1\" class=\"dataframe\">\n",
       "  <thead>\n",
       "    <tr style=\"text-align: right;\">\n",
       "      <th></th>\n",
       "      <th>movieId</th>\n",
       "      <th>title</th>\n",
       "      <th>genres</th>\n",
       "    </tr>\n",
       "  </thead>\n",
       "  <tbody>\n",
       "    <tr>\n",
       "      <th>0</th>\n",
       "      <td>1</td>\n",
       "      <td>Toy Story (1995)</td>\n",
       "      <td>Adventure|Animation|Children|Comedy|Fantasy</td>\n",
       "    </tr>\n",
       "    <tr>\n",
       "      <th>1</th>\n",
       "      <td>2</td>\n",
       "      <td>Jumanji (1995)</td>\n",
       "      <td>Adventure|Children|Fantasy</td>\n",
       "    </tr>\n",
       "    <tr>\n",
       "      <th>2</th>\n",
       "      <td>3</td>\n",
       "      <td>Grumpier Old Men (1995)</td>\n",
       "      <td>Comedy|Romance</td>\n",
       "    </tr>\n",
       "    <tr>\n",
       "      <th>3</th>\n",
       "      <td>4</td>\n",
       "      <td>Waiting to Exhale (1995)</td>\n",
       "      <td>Comedy|Drama|Romance</td>\n",
       "    </tr>\n",
       "    <tr>\n",
       "      <th>4</th>\n",
       "      <td>5</td>\n",
       "      <td>Father of the Bride Part II (1995)</td>\n",
       "      <td>Comedy</td>\n",
       "    </tr>\n",
       "  </tbody>\n",
       "</table>\n",
       "</div>"
      ],
      "text/plain": [
       "   movieId                               title  \\\n",
       "0        1                    Toy Story (1995)   \n",
       "1        2                      Jumanji (1995)   \n",
       "2        3             Grumpier Old Men (1995)   \n",
       "3        4            Waiting to Exhale (1995)   \n",
       "4        5  Father of the Bride Part II (1995)   \n",
       "\n",
       "                                        genres  \n",
       "0  Adventure|Animation|Children|Comedy|Fantasy  \n",
       "1                   Adventure|Children|Fantasy  \n",
       "2                               Comedy|Romance  \n",
       "3                         Comedy|Drama|Romance  \n",
       "4                                       Comedy  "
      ]
     },
     "execution_count": 3,
     "metadata": {},
     "output_type": "execute_result"
    }
   ],
   "source": [
    "movies.head()"
   ]
  },
  {
   "cell_type": "code",
   "execution_count": 4,
   "id": "b286072b",
   "metadata": {},
   "outputs": [
    {
     "data": {
      "text/plain": [
       "(62423, 3)"
      ]
     },
     "execution_count": 4,
     "metadata": {},
     "output_type": "execute_result"
    }
   ],
   "source": [
    "movies.shape"
   ]
  },
  {
   "cell_type": "code",
   "execution_count": 5,
   "id": "4d03c6ff",
   "metadata": {},
   "outputs": [
    {
     "data": {
      "text/html": [
       "<div>\n",
       "<style scoped>\n",
       "    .dataframe tbody tr th:only-of-type {\n",
       "        vertical-align: middle;\n",
       "    }\n",
       "\n",
       "    .dataframe tbody tr th {\n",
       "        vertical-align: top;\n",
       "    }\n",
       "\n",
       "    .dataframe thead th {\n",
       "        text-align: right;\n",
       "    }\n",
       "</style>\n",
       "<table border=\"1\" class=\"dataframe\">\n",
       "  <thead>\n",
       "    <tr style=\"text-align: right;\">\n",
       "      <th></th>\n",
       "      <th>movieId</th>\n",
       "      <th>title</th>\n",
       "      <th>genres</th>\n",
       "    </tr>\n",
       "  </thead>\n",
       "  <tbody>\n",
       "    <tr>\n",
       "      <th>62418</th>\n",
       "      <td>209157</td>\n",
       "      <td>We (2018)</td>\n",
       "      <td>Drama</td>\n",
       "    </tr>\n",
       "    <tr>\n",
       "      <th>62419</th>\n",
       "      <td>209159</td>\n",
       "      <td>Window of the Soul (2001)</td>\n",
       "      <td>Documentary</td>\n",
       "    </tr>\n",
       "    <tr>\n",
       "      <th>62420</th>\n",
       "      <td>209163</td>\n",
       "      <td>Bad Poems (2018)</td>\n",
       "      <td>Comedy|Drama</td>\n",
       "    </tr>\n",
       "    <tr>\n",
       "      <th>62421</th>\n",
       "      <td>209169</td>\n",
       "      <td>A Girl Thing (2001)</td>\n",
       "      <td>(no genres listed)</td>\n",
       "    </tr>\n",
       "    <tr>\n",
       "      <th>62422</th>\n",
       "      <td>209171</td>\n",
       "      <td>Women of Devil's Island (1962)</td>\n",
       "      <td>Action|Adventure|Drama</td>\n",
       "    </tr>\n",
       "  </tbody>\n",
       "</table>\n",
       "</div>"
      ],
      "text/plain": [
       "       movieId                           title                  genres\n",
       "62418   209157                       We (2018)                   Drama\n",
       "62419   209159       Window of the Soul (2001)             Documentary\n",
       "62420   209163                Bad Poems (2018)            Comedy|Drama\n",
       "62421   209169             A Girl Thing (2001)      (no genres listed)\n",
       "62422   209171  Women of Devil's Island (1962)  Action|Adventure|Drama"
      ]
     },
     "execution_count": 5,
     "metadata": {},
     "output_type": "execute_result"
    }
   ],
   "source": [
    "movies.tail()"
   ]
  },
  {
   "cell_type": "markdown",
   "id": "2d1fbaa3",
   "metadata": {},
   "source": [
    "## Cleaning the Title Column"
   ]
  },
  {
   "cell_type": "code",
   "execution_count": 6,
   "id": "e9b3a3d3",
   "metadata": {},
   "outputs": [],
   "source": [
    "movies['year'] = movies['title'].str.extract('(\\d\\d\\d\\d)')"
   ]
  },
  {
   "cell_type": "code",
   "execution_count": 7,
   "id": "c0b47c04",
   "metadata": {},
   "outputs": [],
   "source": [
    "movies['title'] = movies['title'].str.replace('(\\(\\d\\d\\d\\d\\))','',regex=True)"
   ]
  },
  {
   "cell_type": "code",
   "execution_count": 8,
   "id": "10ba11cf",
   "metadata": {},
   "outputs": [],
   "source": [
    "movies['title_year'] = movies['title'] + ' ' + movies['year']"
   ]
  },
  {
   "cell_type": "code",
   "execution_count": 9,
   "id": "95a39b52",
   "metadata": {},
   "outputs": [],
   "source": [
    "movies['title'] = movies['title'].str.strip()"
   ]
  },
  {
   "cell_type": "markdown",
   "id": "6342442d",
   "metadata": {},
   "source": [
    "## Dealing with Null Values"
   ]
  },
  {
   "cell_type": "markdown",
   "id": "a5f0a653",
   "metadata": {},
   "source": [
    "Below, we see that there are 406 rows where there is no information about the year the movie was released. Additionally, we see that these rows are often also missing data in the genre column. Given the missing information and the fact that 406 is less than one percent of the 62,000 rows in the data, we will remove these rows. "
   ]
  },
  {
   "cell_type": "code",
   "execution_count": 10,
   "id": "26076571",
   "metadata": {},
   "outputs": [
    {
     "data": {
      "text/plain": [
       "movieId         0\n",
       "title           0\n",
       "genres          0\n",
       "year          406\n",
       "title_year    406\n",
       "dtype: int64"
      ]
     },
     "execution_count": 10,
     "metadata": {},
     "output_type": "execute_result"
    }
   ],
   "source": [
    "movies.isna().sum()"
   ]
  },
  {
   "cell_type": "code",
   "execution_count": 11,
   "id": "3c55ea00",
   "metadata": {},
   "outputs": [
    {
     "data": {
      "text/html": [
       "<div>\n",
       "<style scoped>\n",
       "    .dataframe tbody tr th:only-of-type {\n",
       "        vertical-align: middle;\n",
       "    }\n",
       "\n",
       "    .dataframe tbody tr th {\n",
       "        vertical-align: top;\n",
       "    }\n",
       "\n",
       "    .dataframe thead th {\n",
       "        text-align: right;\n",
       "    }\n",
       "</style>\n",
       "<table border=\"1\" class=\"dataframe\">\n",
       "  <thead>\n",
       "    <tr style=\"text-align: right;\">\n",
       "      <th></th>\n",
       "      <th>movieId</th>\n",
       "      <th>title</th>\n",
       "      <th>genres</th>\n",
       "      <th>year</th>\n",
       "      <th>title_year</th>\n",
       "    </tr>\n",
       "  </thead>\n",
       "  <tbody>\n",
       "    <tr>\n",
       "      <th>15036</th>\n",
       "      <td>79607</td>\n",
       "      <td>Millions Game, The (Das Millionenspiel)</td>\n",
       "      <td>Action|Drama|Sci-Fi|Thriller</td>\n",
       "      <td>NaN</td>\n",
       "      <td>NaN</td>\n",
       "    </tr>\n",
       "    <tr>\n",
       "      <th>25387</th>\n",
       "      <td>123619</td>\n",
       "      <td>Terrible Joe Moran</td>\n",
       "      <td>(no genres listed)</td>\n",
       "      <td>NaN</td>\n",
       "      <td>NaN</td>\n",
       "    </tr>\n",
       "    <tr>\n",
       "      <th>26284</th>\n",
       "      <td>125571</td>\n",
       "      <td>The Court-Martial of Jackie Robinson</td>\n",
       "      <td>(no genres listed)</td>\n",
       "      <td>NaN</td>\n",
       "      <td>NaN</td>\n",
       "    </tr>\n",
       "    <tr>\n",
       "      <th>26309</th>\n",
       "      <td>125632</td>\n",
       "      <td>In Our Garden</td>\n",
       "      <td>(no genres listed)</td>\n",
       "      <td>NaN</td>\n",
       "      <td>NaN</td>\n",
       "    </tr>\n",
       "    <tr>\n",
       "      <th>26392</th>\n",
       "      <td>125958</td>\n",
       "      <td>Stephen Fry In America - New World</td>\n",
       "      <td>(no genres listed)</td>\n",
       "      <td>NaN</td>\n",
       "      <td>NaN</td>\n",
       "    </tr>\n",
       "    <tr>\n",
       "      <th>26576</th>\n",
       "      <td>126438</td>\n",
       "      <td>Two: The Story of Roman &amp; Nyro</td>\n",
       "      <td>Documentary|Drama</td>\n",
       "      <td>NaN</td>\n",
       "      <td>NaN</td>\n",
       "    </tr>\n",
       "    <tr>\n",
       "      <th>26699</th>\n",
       "      <td>127005</td>\n",
       "      <td>A Year Along the Abandoned Road</td>\n",
       "      <td>(no genres listed)</td>\n",
       "      <td>NaN</td>\n",
       "      <td>NaN</td>\n",
       "    </tr>\n",
       "    <tr>\n",
       "      <th>27216</th>\n",
       "      <td>128612</td>\n",
       "      <td>Body/Cialo</td>\n",
       "      <td>Comedy|Drama|Mystery</td>\n",
       "      <td>NaN</td>\n",
       "      <td>NaN</td>\n",
       "    </tr>\n",
       "    <tr>\n",
       "      <th>27269</th>\n",
       "      <td>128734</td>\n",
       "      <td>Polskie gówno</td>\n",
       "      <td>Comedy|Musical</td>\n",
       "      <td>NaN</td>\n",
       "      <td>NaN</td>\n",
       "    </tr>\n",
       "    <tr>\n",
       "      <th>27577</th>\n",
       "      <td>129651</td>\n",
       "      <td>The Third Reich: The Rise &amp; Fall</td>\n",
       "      <td>(no genres listed)</td>\n",
       "      <td>NaN</td>\n",
       "      <td>NaN</td>\n",
       "    </tr>\n",
       "  </tbody>\n",
       "</table>\n",
       "</div>"
      ],
      "text/plain": [
       "       movieId                                    title  \\\n",
       "15036    79607  Millions Game, The (Das Millionenspiel)   \n",
       "25387   123619                       Terrible Joe Moran   \n",
       "26284   125571     The Court-Martial of Jackie Robinson   \n",
       "26309   125632                            In Our Garden   \n",
       "26392   125958       Stephen Fry In America - New World   \n",
       "26576   126438           Two: The Story of Roman & Nyro   \n",
       "26699   127005          A Year Along the Abandoned Road   \n",
       "27216   128612                               Body/Cialo   \n",
       "27269   128734                            Polskie gówno   \n",
       "27577   129651         The Third Reich: The Rise & Fall   \n",
       "\n",
       "                             genres year title_year  \n",
       "15036  Action|Drama|Sci-Fi|Thriller  NaN        NaN  \n",
       "25387            (no genres listed)  NaN        NaN  \n",
       "26284            (no genres listed)  NaN        NaN  \n",
       "26309            (no genres listed)  NaN        NaN  \n",
       "26392            (no genres listed)  NaN        NaN  \n",
       "26576             Documentary|Drama  NaN        NaN  \n",
       "26699            (no genres listed)  NaN        NaN  \n",
       "27216          Comedy|Drama|Mystery  NaN        NaN  \n",
       "27269                Comedy|Musical  NaN        NaN  \n",
       "27577            (no genres listed)  NaN        NaN  "
      ]
     },
     "execution_count": 11,
     "metadata": {},
     "output_type": "execute_result"
    }
   ],
   "source": [
    "movies[ movies['year'].isnull()].head(10)"
   ]
  },
  {
   "cell_type": "code",
   "execution_count": 12,
   "id": "268a3231",
   "metadata": {},
   "outputs": [],
   "source": [
    "movies.dropna(inplace=True)"
   ]
  },
  {
   "cell_type": "markdown",
   "id": "ec49bef3",
   "metadata": {},
   "source": [
    "## Creating the Search Function"
   ]
  },
  {
   "cell_type": "code",
   "execution_count": 13,
   "id": "1904b077",
   "metadata": {},
   "outputs": [],
   "source": [
    "vectorizer = TfidfVectorizer(ngram_range=(1,2))"
   ]
  },
  {
   "cell_type": "code",
   "execution_count": 14,
   "id": "5bc209ca",
   "metadata": {},
   "outputs": [],
   "source": [
    "tfid = vectorizer.fit_transform(movies['title_year'])"
   ]
  },
  {
   "cell_type": "code",
   "execution_count": 15,
   "id": "b739a834",
   "metadata": {},
   "outputs": [],
   "source": [
    "def get_five_most_similar(title):\n",
    "    title = regex.sub(r' \\W+', '', title)\n",
    "    query_vector = vectorizer.transform([title])\n",
    "    similarity = cosine_similarity(query_vector, tfid).flatten()\n",
    "    indices = np.argpartition(similarity, -5)[-5:]\n",
    "    return movies.iloc[indices].iloc[::-1]"
   ]
  },
  {
   "cell_type": "code",
   "execution_count": 16,
   "id": "53a3e729",
   "metadata": {},
   "outputs": [
    {
     "data": {
      "text/html": [
       "<div>\n",
       "<style scoped>\n",
       "    .dataframe tbody tr th:only-of-type {\n",
       "        vertical-align: middle;\n",
       "    }\n",
       "\n",
       "    .dataframe tbody tr th {\n",
       "        vertical-align: top;\n",
       "    }\n",
       "\n",
       "    .dataframe thead th {\n",
       "        text-align: right;\n",
       "    }\n",
       "</style>\n",
       "<table border=\"1\" class=\"dataframe\">\n",
       "  <thead>\n",
       "    <tr style=\"text-align: right;\">\n",
       "      <th></th>\n",
       "      <th>movieId</th>\n",
       "      <th>title</th>\n",
       "      <th>genres</th>\n",
       "      <th>year</th>\n",
       "      <th>title_year</th>\n",
       "    </tr>\n",
       "  </thead>\n",
       "  <tbody>\n",
       "    <tr>\n",
       "      <th>4790</th>\n",
       "      <td>4896</td>\n",
       "      <td>Harry Potter and the Sorcerer's Stone (a.k.a. ...</td>\n",
       "      <td>Adventure|Children|Fantasy</td>\n",
       "      <td>2001</td>\n",
       "      <td>Harry Potter and the Sorcerer's Stone (a.k.a. ...</td>\n",
       "    </tr>\n",
       "    <tr>\n",
       "      <th>5704</th>\n",
       "      <td>5816</td>\n",
       "      <td>Harry Potter and the Chamber of Secrets</td>\n",
       "      <td>Adventure|Fantasy</td>\n",
       "      <td>2002</td>\n",
       "      <td>Harry Potter and the Chamber of Secrets  2002</td>\n",
       "    </tr>\n",
       "    <tr>\n",
       "      <th>10408</th>\n",
       "      <td>40815</td>\n",
       "      <td>Harry Potter and the Goblet of Fire</td>\n",
       "      <td>Adventure|Fantasy|Thriller|IMAX</td>\n",
       "      <td>2005</td>\n",
       "      <td>Harry Potter and the Goblet of Fire  2005</td>\n",
       "    </tr>\n",
       "    <tr>\n",
       "      <th>11700</th>\n",
       "      <td>54001</td>\n",
       "      <td>Harry Potter and the Order of the Phoenix</td>\n",
       "      <td>Adventure|Drama|Fantasy|IMAX</td>\n",
       "      <td>2007</td>\n",
       "      <td>Harry Potter and the Order of the Phoenix  2007</td>\n",
       "    </tr>\n",
       "    <tr>\n",
       "      <th>13512</th>\n",
       "      <td>69844</td>\n",
       "      <td>Harry Potter and the Half-Blood Prince</td>\n",
       "      <td>Adventure|Fantasy|Mystery|Romance|IMAX</td>\n",
       "      <td>2009</td>\n",
       "      <td>Harry Potter and the Half-Blood Prince  2009</td>\n",
       "    </tr>\n",
       "  </tbody>\n",
       "</table>\n",
       "</div>"
      ],
      "text/plain": [
       "       movieId                                              title  \\\n",
       "4790      4896  Harry Potter and the Sorcerer's Stone (a.k.a. ...   \n",
       "5704      5816            Harry Potter and the Chamber of Secrets   \n",
       "10408    40815                Harry Potter and the Goblet of Fire   \n",
       "11700    54001          Harry Potter and the Order of the Phoenix   \n",
       "13512    69844             Harry Potter and the Half-Blood Prince   \n",
       "\n",
       "                                       genres  year  \\\n",
       "4790               Adventure|Children|Fantasy  2001   \n",
       "5704                        Adventure|Fantasy  2002   \n",
       "10408         Adventure|Fantasy|Thriller|IMAX  2005   \n",
       "11700            Adventure|Drama|Fantasy|IMAX  2007   \n",
       "13512  Adventure|Fantasy|Mystery|Romance|IMAX  2009   \n",
       "\n",
       "                                              title_year  \n",
       "4790   Harry Potter and the Sorcerer's Stone (a.k.a. ...  \n",
       "5704       Harry Potter and the Chamber of Secrets  2002  \n",
       "10408          Harry Potter and the Goblet of Fire  2005  \n",
       "11700    Harry Potter and the Order of the Phoenix  2007  \n",
       "13512       Harry Potter and the Half-Blood Prince  2009  "
      ]
     },
     "execution_count": 16,
     "metadata": {},
     "output_type": "execute_result"
    }
   ],
   "source": [
    "get_five_most_similar('harry potter')"
   ]
  },
  {
   "cell_type": "code",
   "execution_count": 17,
   "id": "5b9c9ef7",
   "metadata": {},
   "outputs": [
    {
     "data": {
      "application/vnd.jupyter.widget-view+json": {
       "model_id": "999769bbd80e4620b79217b2c7bd7b2d",
       "version_major": 2,
       "version_minor": 0
      },
      "text/plain": [
       "Text(value='Toy Story', description='Movie Title')"
      ]
     },
     "metadata": {},
     "output_type": "display_data"
    },
    {
     "data": {
      "application/vnd.jupyter.widget-view+json": {
       "model_id": "200e5f8c6a814294a655b3239f18232a",
       "version_major": 2,
       "version_minor": 0
      },
      "text/plain": [
       "Output()"
      ]
     },
     "metadata": {},
     "output_type": "display_data"
    }
   ],
   "source": [
    "movie_input = widgets.Text(\n",
    "    value='Toy Story',\n",
    "    description='Movie Title',\n",
    "    disabled=False\n",
    ")\n",
    "movie_list = widgets.Output()\n",
    "\n",
    "def on_type(data):\n",
    "    with movie_list:\n",
    "        movie_list.clear_output()\n",
    "        title = data['new']\n",
    "        if len(title) > 5:\n",
    "            display(get_five_most_similar(title))\n",
    "            \n",
    "movie_input.observe(on_type, names='value')\n",
    "\n",
    "display(movie_input, movie_list)"
   ]
  },
  {
   "cell_type": "markdown",
   "id": "98375b43",
   "metadata": {},
   "source": [
    "## Building the Recommendation System"
   ]
  },
  {
   "cell_type": "markdown",
   "id": "8e0a99b6",
   "metadata": {},
   "source": [
    "### Exploring the Ratings Data"
   ]
  },
  {
   "cell_type": "code",
   "execution_count": 18,
   "id": "66f5cdf6",
   "metadata": {},
   "outputs": [],
   "source": [
    "ratings = pd.read_csv('ratings.csv')"
   ]
  },
  {
   "cell_type": "code",
   "execution_count": 19,
   "id": "b29a2bcd",
   "metadata": {},
   "outputs": [
    {
     "data": {
      "text/plain": [
       "(25000095, 4)"
      ]
     },
     "execution_count": 19,
     "metadata": {},
     "output_type": "execute_result"
    }
   ],
   "source": [
    "ratings.shape"
   ]
  },
  {
   "cell_type": "code",
   "execution_count": 20,
   "id": "0a8f3ccc",
   "metadata": {},
   "outputs": [
    {
     "data": {
      "text/html": [
       "<div>\n",
       "<style scoped>\n",
       "    .dataframe tbody tr th:only-of-type {\n",
       "        vertical-align: middle;\n",
       "    }\n",
       "\n",
       "    .dataframe tbody tr th {\n",
       "        vertical-align: top;\n",
       "    }\n",
       "\n",
       "    .dataframe thead th {\n",
       "        text-align: right;\n",
       "    }\n",
       "</style>\n",
       "<table border=\"1\" class=\"dataframe\">\n",
       "  <thead>\n",
       "    <tr style=\"text-align: right;\">\n",
       "      <th></th>\n",
       "      <th>userId</th>\n",
       "      <th>movieId</th>\n",
       "      <th>rating</th>\n",
       "      <th>timestamp</th>\n",
       "    </tr>\n",
       "  </thead>\n",
       "  <tbody>\n",
       "    <tr>\n",
       "      <th>0</th>\n",
       "      <td>1</td>\n",
       "      <td>296</td>\n",
       "      <td>5.0</td>\n",
       "      <td>1147880044</td>\n",
       "    </tr>\n",
       "    <tr>\n",
       "      <th>1</th>\n",
       "      <td>1</td>\n",
       "      <td>306</td>\n",
       "      <td>3.5</td>\n",
       "      <td>1147868817</td>\n",
       "    </tr>\n",
       "    <tr>\n",
       "      <th>2</th>\n",
       "      <td>1</td>\n",
       "      <td>307</td>\n",
       "      <td>5.0</td>\n",
       "      <td>1147868828</td>\n",
       "    </tr>\n",
       "    <tr>\n",
       "      <th>3</th>\n",
       "      <td>1</td>\n",
       "      <td>665</td>\n",
       "      <td>5.0</td>\n",
       "      <td>1147878820</td>\n",
       "    </tr>\n",
       "    <tr>\n",
       "      <th>4</th>\n",
       "      <td>1</td>\n",
       "      <td>899</td>\n",
       "      <td>3.5</td>\n",
       "      <td>1147868510</td>\n",
       "    </tr>\n",
       "  </tbody>\n",
       "</table>\n",
       "</div>"
      ],
      "text/plain": [
       "   userId  movieId  rating   timestamp\n",
       "0       1      296     5.0  1147880044\n",
       "1       1      306     3.5  1147868817\n",
       "2       1      307     5.0  1147868828\n",
       "3       1      665     5.0  1147878820\n",
       "4       1      899     3.5  1147868510"
      ]
     },
     "execution_count": 20,
     "metadata": {},
     "output_type": "execute_result"
    }
   ],
   "source": [
    "ratings.head()"
   ]
  },
  {
   "cell_type": "code",
   "execution_count": 21,
   "id": "9a6d7438",
   "metadata": {},
   "outputs": [
    {
     "data": {
      "text/plain": [
       "162541"
      ]
     },
     "execution_count": 21,
     "metadata": {},
     "output_type": "execute_result"
    }
   ],
   "source": [
    "ratings['userId'].unique().size #Number of Distinct Reviewers"
   ]
  },
  {
   "cell_type": "markdown",
   "id": "ea467fd1",
   "metadata": {},
   "source": [
    "### Building a Recommendation Function "
   ]
  },
  {
   "cell_type": "code",
   "execution_count": 22,
   "id": "8a53edf6",
   "metadata": {},
   "outputs": [],
   "source": [
    "similar_reviewers = ratings[ (ratings['movieId'] == 1) & (ratings['rating'] >= 5)]"
   ]
  },
  {
   "cell_type": "code",
   "execution_count": 23,
   "id": "f26fa2d0",
   "metadata": {},
   "outputs": [],
   "source": [
    "similar_user_movies = ratings[ (ratings['userId'].isin(similar_reviewers['userId'])) & (ratings['rating'] >= 5)]['movieId']"
   ]
  },
  {
   "cell_type": "code",
   "execution_count": 24,
   "id": "a7fefdba",
   "metadata": {},
   "outputs": [],
   "source": [
    "movie_users_perc_like = similar_user_movies.value_counts() / len(similar_reviewers)"
   ]
  },
  {
   "cell_type": "code",
   "execution_count": 25,
   "id": "775fdc6d",
   "metadata": {},
   "outputs": [],
   "source": [
    "ten_perc_plus_like = movie_users_perc_like[movie_users_perc_like > .1]"
   ]
  },
  {
   "cell_type": "code",
   "execution_count": 26,
   "id": "5e499b13",
   "metadata": {},
   "outputs": [
    {
     "data": {
      "text/plain": [
       "1        1.000000\n",
       "318      0.367762\n",
       "260      0.358285\n",
       "296      0.299126\n",
       "356      0.292240\n",
       "           ...   \n",
       "1089     0.105064\n",
       "590      0.104620\n",
       "780      0.102991\n",
       "78499    0.101436\n",
       "750      0.100992\n",
       "Name: movieId, Length: 64, dtype: float64"
      ]
     },
     "execution_count": 26,
     "metadata": {},
     "output_type": "execute_result"
    }
   ],
   "source": [
    "ten_perc_plus_like"
   ]
  },
  {
   "cell_type": "code",
   "execution_count": 27,
   "id": "9987bc5d",
   "metadata": {},
   "outputs": [],
   "source": [
    "all_users = ratings[(ratings['movieId'].isin(ten_perc_plus_like.index)) & (ratings['rating'] >= 5)]"
   ]
  },
  {
   "cell_type": "code",
   "execution_count": 28,
   "id": "28963b19",
   "metadata": {},
   "outputs": [],
   "source": [
    "all_user_recs = all_users['movieId'].value_counts() / len(all_users['userId'].unique())"
   ]
  },
  {
   "cell_type": "code",
   "execution_count": 29,
   "id": "16f513cf",
   "metadata": {},
   "outputs": [
    {
     "data": {
      "text/plain": [
       "318      0.293673\n",
       "296      0.238848\n",
       "356      0.192436\n",
       "260      0.191589\n",
       "2571     0.189198\n",
       "           ...   \n",
       "6377     0.039507\n",
       "1073     0.039218\n",
       "1148     0.039099\n",
       "8961     0.037465\n",
       "78499    0.020982\n",
       "Name: movieId, Length: 64, dtype: float64"
      ]
     },
     "execution_count": 29,
     "metadata": {},
     "output_type": "execute_result"
    }
   ],
   "source": [
    "all_user_recs"
   ]
  },
  {
   "cell_type": "code",
   "execution_count": 30,
   "id": "71872808",
   "metadata": {},
   "outputs": [],
   "source": [
    "combine_recs = pd.concat([ten_perc_plus_like,all_user_recs], axis=1)\n",
    "combine_recs.columns = ['similar_user_perc', 'all_user_perc']"
   ]
  },
  {
   "cell_type": "code",
   "execution_count": 31,
   "id": "9d845881",
   "metadata": {},
   "outputs": [
    {
     "data": {
      "text/html": [
       "<div>\n",
       "<style scoped>\n",
       "    .dataframe tbody tr th:only-of-type {\n",
       "        vertical-align: middle;\n",
       "    }\n",
       "\n",
       "    .dataframe tbody tr th {\n",
       "        vertical-align: top;\n",
       "    }\n",
       "\n",
       "    .dataframe thead th {\n",
       "        text-align: right;\n",
       "    }\n",
       "</style>\n",
       "<table border=\"1\" class=\"dataframe\">\n",
       "  <thead>\n",
       "    <tr style=\"text-align: right;\">\n",
       "      <th></th>\n",
       "      <th>similar_user_perc</th>\n",
       "      <th>all_user_perc</th>\n",
       "    </tr>\n",
       "  </thead>\n",
       "  <tbody>\n",
       "    <tr>\n",
       "      <th>1</th>\n",
       "      <td>1.000000</td>\n",
       "      <td>0.100279</td>\n",
       "    </tr>\n",
       "    <tr>\n",
       "      <th>318</th>\n",
       "      <td>0.367762</td>\n",
       "      <td>0.293673</td>\n",
       "    </tr>\n",
       "    <tr>\n",
       "      <th>260</th>\n",
       "      <td>0.358285</td>\n",
       "      <td>0.191589</td>\n",
       "    </tr>\n",
       "    <tr>\n",
       "      <th>296</th>\n",
       "      <td>0.299126</td>\n",
       "      <td>0.238848</td>\n",
       "    </tr>\n",
       "    <tr>\n",
       "      <th>356</th>\n",
       "      <td>0.292240</td>\n",
       "      <td>0.192436</td>\n",
       "    </tr>\n",
       "    <tr>\n",
       "      <th>...</th>\n",
       "      <td>...</td>\n",
       "      <td>...</td>\n",
       "    </tr>\n",
       "    <tr>\n",
       "      <th>1089</th>\n",
       "      <td>0.105064</td>\n",
       "      <td>0.068961</td>\n",
       "    </tr>\n",
       "    <tr>\n",
       "      <th>590</th>\n",
       "      <td>0.104620</td>\n",
       "      <td>0.062680</td>\n",
       "    </tr>\n",
       "    <tr>\n",
       "      <th>780</th>\n",
       "      <td>0.102991</td>\n",
       "      <td>0.045744</td>\n",
       "    </tr>\n",
       "    <tr>\n",
       "      <th>78499</th>\n",
       "      <td>0.101436</td>\n",
       "      <td>0.020982</td>\n",
       "    </tr>\n",
       "    <tr>\n",
       "      <th>750</th>\n",
       "      <td>0.100992</td>\n",
       "      <td>0.077262</td>\n",
       "    </tr>\n",
       "  </tbody>\n",
       "</table>\n",
       "<p>64 rows × 2 columns</p>\n",
       "</div>"
      ],
      "text/plain": [
       "       similar_user_perc  all_user_perc\n",
       "1               1.000000       0.100279\n",
       "318             0.367762       0.293673\n",
       "260             0.358285       0.191589\n",
       "296             0.299126       0.238848\n",
       "356             0.292240       0.192436\n",
       "...                  ...            ...\n",
       "1089            0.105064       0.068961\n",
       "590             0.104620       0.062680\n",
       "780             0.102991       0.045744\n",
       "78499           0.101436       0.020982\n",
       "750             0.100992       0.077262\n",
       "\n",
       "[64 rows x 2 columns]"
      ]
     },
     "execution_count": 31,
     "metadata": {},
     "output_type": "execute_result"
    }
   ],
   "source": [
    "combine_recs #Comparing the percent of similar users who liked each movie vs the percent of all users that liked each movie"
   ]
  },
  {
   "cell_type": "code",
   "execution_count": 32,
   "id": "c7967f46",
   "metadata": {},
   "outputs": [],
   "source": [
    "combine_recs['score'] = combine_recs['similar_user_perc'] / combine_recs['all_user_perc']"
   ]
  },
  {
   "cell_type": "code",
   "execution_count": 33,
   "id": "335e1842",
   "metadata": {},
   "outputs": [],
   "source": [
    "combine_recs = combine_recs.sort_values(by='score', ascending=False)\n",
    "top_ten = combine_recs.head(10)"
   ]
  },
  {
   "cell_type": "code",
   "execution_count": 34,
   "id": "15ea9ffe",
   "metadata": {},
   "outputs": [],
   "source": [
    "top_ten = top_ten.merge(movies, left_on=top_ten.index, right_on=movies['movieId'])"
   ]
  },
  {
   "cell_type": "code",
   "execution_count": 35,
   "id": "f43f35b1",
   "metadata": {},
   "outputs": [
    {
     "data": {
      "text/html": [
       "<div>\n",
       "<style scoped>\n",
       "    .dataframe tbody tr th:only-of-type {\n",
       "        vertical-align: middle;\n",
       "    }\n",
       "\n",
       "    .dataframe tbody tr th {\n",
       "        vertical-align: top;\n",
       "    }\n",
       "\n",
       "    .dataframe thead th {\n",
       "        text-align: right;\n",
       "    }\n",
       "</style>\n",
       "<table border=\"1\" class=\"dataframe\">\n",
       "  <thead>\n",
       "    <tr style=\"text-align: right;\">\n",
       "      <th></th>\n",
       "      <th>key_0</th>\n",
       "      <th>similar_user_perc</th>\n",
       "      <th>all_user_perc</th>\n",
       "      <th>score</th>\n",
       "      <th>movieId</th>\n",
       "      <th>title</th>\n",
       "      <th>genres</th>\n",
       "      <th>year</th>\n",
       "      <th>title_year</th>\n",
       "    </tr>\n",
       "  </thead>\n",
       "  <tbody>\n",
       "    <tr>\n",
       "      <th>0</th>\n",
       "      <td>1</td>\n",
       "      <td>1.000000</td>\n",
       "      <td>0.100279</td>\n",
       "      <td>9.972161</td>\n",
       "      <td>1</td>\n",
       "      <td>Toy Story</td>\n",
       "      <td>Adventure|Animation|Children|Comedy|Fantasy</td>\n",
       "      <td>1995</td>\n",
       "      <td>Toy Story  1995</td>\n",
       "    </tr>\n",
       "    <tr>\n",
       "      <th>1</th>\n",
       "      <td>3114</td>\n",
       "      <td>0.236043</td>\n",
       "      <td>0.039849</td>\n",
       "      <td>5.923467</td>\n",
       "      <td>3114</td>\n",
       "      <td>Toy Story 2</td>\n",
       "      <td>Adventure|Animation|Children|Comedy|Fantasy</td>\n",
       "      <td>1999</td>\n",
       "      <td>Toy Story 2  1999</td>\n",
       "    </tr>\n",
       "    <tr>\n",
       "      <th>2</th>\n",
       "      <td>78499</td>\n",
       "      <td>0.101436</td>\n",
       "      <td>0.020982</td>\n",
       "      <td>4.834345</td>\n",
       "      <td>78499</td>\n",
       "      <td>Toy Story 3</td>\n",
       "      <td>Adventure|Animation|Children|Comedy|Fantasy|IMAX</td>\n",
       "      <td>2010</td>\n",
       "      <td>Toy Story 3  2010</td>\n",
       "    </tr>\n",
       "    <tr>\n",
       "      <th>3</th>\n",
       "      <td>4886</td>\n",
       "      <td>0.149119</td>\n",
       "      <td>0.041111</td>\n",
       "      <td>3.627223</td>\n",
       "      <td>4886</td>\n",
       "      <td>Monsters, Inc.</td>\n",
       "      <td>Adventure|Animation|Children|Comedy|Fantasy</td>\n",
       "      <td>2001</td>\n",
       "      <td>Monsters, Inc.  2001</td>\n",
       "    </tr>\n",
       "    <tr>\n",
       "      <th>4</th>\n",
       "      <td>588</td>\n",
       "      <td>0.193988</td>\n",
       "      <td>0.055753</td>\n",
       "      <td>3.479433</td>\n",
       "      <td>588</td>\n",
       "      <td>Aladdin</td>\n",
       "      <td>Adventure|Animation|Children|Comedy|Musical</td>\n",
       "      <td>1992</td>\n",
       "      <td>Aladdin  1992</td>\n",
       "    </tr>\n",
       "    <tr>\n",
       "      <th>5</th>\n",
       "      <td>6377</td>\n",
       "      <td>0.131423</td>\n",
       "      <td>0.039507</td>\n",
       "      <td>3.326552</td>\n",
       "      <td>6377</td>\n",
       "      <td>Finding Nemo</td>\n",
       "      <td>Adventure|Animation|Children|Comedy</td>\n",
       "      <td>2003</td>\n",
       "      <td>Finding Nemo  2003</td>\n",
       "    </tr>\n",
       "    <tr>\n",
       "      <th>6</th>\n",
       "      <td>595</td>\n",
       "      <td>0.170295</td>\n",
       "      <td>0.053496</td>\n",
       "      <td>3.183341</td>\n",
       "      <td>595</td>\n",
       "      <td>Beauty and the Beast</td>\n",
       "      <td>Animation|Children|Fantasy|Musical|Romance|IMAX</td>\n",
       "      <td>1991</td>\n",
       "      <td>Beauty and the Beast  1991</td>\n",
       "    </tr>\n",
       "    <tr>\n",
       "      <th>7</th>\n",
       "      <td>364</td>\n",
       "      <td>0.211832</td>\n",
       "      <td>0.069229</td>\n",
       "      <td>3.059883</td>\n",
       "      <td>364</td>\n",
       "      <td>Lion King, The</td>\n",
       "      <td>Adventure|Animation|Children|Drama|Musical|IMAX</td>\n",
       "      <td>1994</td>\n",
       "      <td>Lion King, The  1994</td>\n",
       "    </tr>\n",
       "    <tr>\n",
       "      <th>8</th>\n",
       "      <td>1073</td>\n",
       "      <td>0.119502</td>\n",
       "      <td>0.039218</td>\n",
       "      <td>3.047154</td>\n",
       "      <td>1073</td>\n",
       "      <td>Willy Wonka &amp; the Chocolate Factory</td>\n",
       "      <td>Children|Comedy|Fantasy|Musical</td>\n",
       "      <td>1971</td>\n",
       "      <td>Willy Wonka &amp; the Chocolate Factory  1971</td>\n",
       "    </tr>\n",
       "    <tr>\n",
       "      <th>9</th>\n",
       "      <td>8961</td>\n",
       "      <td>0.112469</td>\n",
       "      <td>0.037465</td>\n",
       "      <td>3.001925</td>\n",
       "      <td>8961</td>\n",
       "      <td>Incredibles, The</td>\n",
       "      <td>Action|Adventure|Animation|Children|Comedy</td>\n",
       "      <td>2004</td>\n",
       "      <td>Incredibles, The  2004</td>\n",
       "    </tr>\n",
       "  </tbody>\n",
       "</table>\n",
       "</div>"
      ],
      "text/plain": [
       "   key_0  similar_user_perc  all_user_perc     score  movieId  \\\n",
       "0      1           1.000000       0.100279  9.972161        1   \n",
       "1   3114           0.236043       0.039849  5.923467     3114   \n",
       "2  78499           0.101436       0.020982  4.834345    78499   \n",
       "3   4886           0.149119       0.041111  3.627223     4886   \n",
       "4    588           0.193988       0.055753  3.479433      588   \n",
       "5   6377           0.131423       0.039507  3.326552     6377   \n",
       "6    595           0.170295       0.053496  3.183341      595   \n",
       "7    364           0.211832       0.069229  3.059883      364   \n",
       "8   1073           0.119502       0.039218  3.047154     1073   \n",
       "9   8961           0.112469       0.037465  3.001925     8961   \n",
       "\n",
       "                                 title  \\\n",
       "0                            Toy Story   \n",
       "1                          Toy Story 2   \n",
       "2                          Toy Story 3   \n",
       "3                       Monsters, Inc.   \n",
       "4                              Aladdin   \n",
       "5                         Finding Nemo   \n",
       "6                 Beauty and the Beast   \n",
       "7                       Lion King, The   \n",
       "8  Willy Wonka & the Chocolate Factory   \n",
       "9                     Incredibles, The   \n",
       "\n",
       "                                             genres  year  \\\n",
       "0       Adventure|Animation|Children|Comedy|Fantasy  1995   \n",
       "1       Adventure|Animation|Children|Comedy|Fantasy  1999   \n",
       "2  Adventure|Animation|Children|Comedy|Fantasy|IMAX  2010   \n",
       "3       Adventure|Animation|Children|Comedy|Fantasy  2001   \n",
       "4       Adventure|Animation|Children|Comedy|Musical  1992   \n",
       "5               Adventure|Animation|Children|Comedy  2003   \n",
       "6   Animation|Children|Fantasy|Musical|Romance|IMAX  1991   \n",
       "7   Adventure|Animation|Children|Drama|Musical|IMAX  1994   \n",
       "8                   Children|Comedy|Fantasy|Musical  1971   \n",
       "9        Action|Adventure|Animation|Children|Comedy  2004   \n",
       "\n",
       "                                  title_year  \n",
       "0                            Toy Story  1995  \n",
       "1                          Toy Story 2  1999  \n",
       "2                          Toy Story 3  2010  \n",
       "3                       Monsters, Inc.  2001  \n",
       "4                              Aladdin  1992  \n",
       "5                         Finding Nemo  2003  \n",
       "6                 Beauty and the Beast  1991  \n",
       "7                       Lion King, The  1994  \n",
       "8  Willy Wonka & the Chocolate Factory  1971  \n",
       "9                     Incredibles, The  2004  "
      ]
     },
     "execution_count": 35,
     "metadata": {},
     "output_type": "execute_result"
    }
   ],
   "source": [
    "top_ten"
   ]
  },
  {
   "cell_type": "code",
   "execution_count": 36,
   "id": "732f9d67",
   "metadata": {},
   "outputs": [],
   "source": [
    "movies['title'] = movies['title'].str.strip()"
   ]
  },
  {
   "cell_type": "code",
   "execution_count": 37,
   "id": "cb86d69a",
   "metadata": {},
   "outputs": [
    {
     "data": {
      "text/plain": [
       "1    2\n",
       "Name: movieId, dtype: int64"
      ]
     },
     "execution_count": 37,
     "metadata": {},
     "output_type": "execute_result"
    }
   ],
   "source": [
    "movie_id = movies[movies['title'] == 'Jumanji']['movieId']\n",
    "movie_id"
   ]
  },
  {
   "cell_type": "code",
   "execution_count": 38,
   "id": "3f5a8517",
   "metadata": {},
   "outputs": [],
   "source": [
    "def get_10_recommendations(title):\n",
    "    movie_id = int(movies[movies['title'] == title]['movieId'])\n",
    "    similar_reviewers = ratings[ (ratings['movieId'] == movie_id) & (ratings['rating'] >= 5)]\n",
    "    similar_user_movies = ratings[ (ratings['userId'].isin(similar_reviewers['userId'])) & (ratings['rating'] >= 5)]['movieId']\n",
    "    movie_users_perc_like = similar_user_movies.value_counts() / len(similar_reviewers)\n",
    "    ten_perc_plus_like = movie_users_perc_like[movie_users_perc_like > .1]\n",
    "    all_users = ratings[(ratings['movieId'].isin(ten_perc_plus_like.index)) & (ratings['rating'] >= 5)]\n",
    "    all_user_recs = all_users['movieId'].value_counts() / len(all_users['userId'].unique())\n",
    "    combine_recs = pd.concat([ten_perc_plus_like,all_user_recs], axis=1)\n",
    "    combine_recs.columns = ['similar_user_perc', 'all_user_perc']\n",
    "    combine_recs['score'] = combine_recs['similar_user_perc'] / combine_recs['all_user_perc']\n",
    "    combine_recs = combine_recs.sort_values(by='score', ascending=False)\n",
    "    top_ten = combine_recs.head(11).tail(10)\n",
    "    top_ten = top_ten.merge(movies, left_on=top_ten.index, right_on=movies['movieId'])\n",
    "    return top_ten[['score','title','genres']]"
   ]
  },
  {
   "cell_type": "code",
   "execution_count": 39,
   "id": "94cdc1e3",
   "metadata": {
    "scrolled": true
   },
   "outputs": [
    {
     "data": {
      "text/html": [
       "<div>\n",
       "<style scoped>\n",
       "    .dataframe tbody tr th:only-of-type {\n",
       "        vertical-align: middle;\n",
       "    }\n",
       "\n",
       "    .dataframe tbody tr th {\n",
       "        vertical-align: top;\n",
       "    }\n",
       "\n",
       "    .dataframe thead th {\n",
       "        text-align: right;\n",
       "    }\n",
       "</style>\n",
       "<table border=\"1\" class=\"dataframe\">\n",
       "  <thead>\n",
       "    <tr style=\"text-align: right;\">\n",
       "      <th></th>\n",
       "      <th>score</th>\n",
       "      <th>title</th>\n",
       "      <th>genres</th>\n",
       "    </tr>\n",
       "  </thead>\n",
       "  <tbody>\n",
       "    <tr>\n",
       "      <th>0</th>\n",
       "      <td>44.905005</td>\n",
       "      <td>Junior</td>\n",
       "      <td>Comedy|Sci-Fi</td>\n",
       "    </tr>\n",
       "    <tr>\n",
       "      <th>1</th>\n",
       "      <td>33.046973</td>\n",
       "      <td>Congo</td>\n",
       "      <td>Action|Adventure|Mystery|Sci-Fi</td>\n",
       "    </tr>\n",
       "    <tr>\n",
       "      <th>2</th>\n",
       "      <td>29.857885</td>\n",
       "      <td>Nine Months</td>\n",
       "      <td>Comedy|Romance</td>\n",
       "    </tr>\n",
       "    <tr>\n",
       "      <th>3</th>\n",
       "      <td>26.688152</td>\n",
       "      <td>Pocahontas</td>\n",
       "      <td>Animation|Children|Drama|Musical|Romance</td>\n",
       "    </tr>\n",
       "    <tr>\n",
       "      <th>4</th>\n",
       "      <td>25.942701</td>\n",
       "      <td>Santa Clause, The</td>\n",
       "      <td>Comedy|Drama|Fantasy</td>\n",
       "    </tr>\n",
       "    <tr>\n",
       "      <th>5</th>\n",
       "      <td>25.102740</td>\n",
       "      <td>Dangerous Minds</td>\n",
       "      <td>Drama</td>\n",
       "    </tr>\n",
       "    <tr>\n",
       "      <th>6</th>\n",
       "      <td>23.667654</td>\n",
       "      <td>Beverly Hills Cop III</td>\n",
       "      <td>Action|Comedy|Crime|Thriller</td>\n",
       "    </tr>\n",
       "    <tr>\n",
       "      <th>7</th>\n",
       "      <td>20.906159</td>\n",
       "      <td>Jumanji</td>\n",
       "      <td>Adventure|Children|Fantasy</td>\n",
       "    </tr>\n",
       "    <tr>\n",
       "      <th>8</th>\n",
       "      <td>18.642358</td>\n",
       "      <td>Addams Family Values</td>\n",
       "      <td>Children|Comedy|Fantasy</td>\n",
       "    </tr>\n",
       "    <tr>\n",
       "      <th>9</th>\n",
       "      <td>17.824431</td>\n",
       "      <td>Walk in the Clouds, A</td>\n",
       "      <td>Drama|Romance</td>\n",
       "    </tr>\n",
       "  </tbody>\n",
       "</table>\n",
       "</div>"
      ],
      "text/plain": [
       "       score                  title                                    genres\n",
       "0  44.905005                 Junior                             Comedy|Sci-Fi\n",
       "1  33.046973                  Congo           Action|Adventure|Mystery|Sci-Fi\n",
       "2  29.857885            Nine Months                            Comedy|Romance\n",
       "3  26.688152             Pocahontas  Animation|Children|Drama|Musical|Romance\n",
       "4  25.942701      Santa Clause, The                      Comedy|Drama|Fantasy\n",
       "5  25.102740        Dangerous Minds                                     Drama\n",
       "6  23.667654  Beverly Hills Cop III              Action|Comedy|Crime|Thriller\n",
       "7  20.906159                Jumanji                Adventure|Children|Fantasy\n",
       "8  18.642358   Addams Family Values                   Children|Comedy|Fantasy\n",
       "9  17.824431  Walk in the Clouds, A                             Drama|Romance"
      ]
     },
     "execution_count": 39,
     "metadata": {},
     "output_type": "execute_result"
    }
   ],
   "source": [
    "get_10_recommendations('Casper')"
   ]
  },
  {
   "cell_type": "code",
   "execution_count": 47,
   "id": "c727a5d8",
   "metadata": {},
   "outputs": [],
   "source": [
    "def get_10_recommendations(title, my_genre=None):\n",
    "    movie_id = int(movies[movies['title'] == title]['movieId'])\n",
    "    similar_reviewers = ratings[ (ratings['movieId'] == movie_id) & (ratings['rating'] >= 5)]\n",
    "    similar_user_movies = ratings[ (ratings['userId'].isin(similar_reviewers['userId'])) & (ratings['rating'] >= 5)]['movieId']\n",
    "    movie_users_perc_like = similar_user_movies.value_counts() / len(similar_reviewers)\n",
    "    ten_perc_plus_like = movie_users_perc_like[movie_users_perc_like > .1]\n",
    "    all_users = ratings[(ratings['movieId'].isin(ten_perc_plus_like.index)) & (ratings['rating'] >= 5)]\n",
    "    all_user_recs = all_users['movieId'].value_counts() / len(all_users['userId'].unique())\n",
    "    combine_recs = pd.concat([ten_perc_plus_like,all_user_recs], axis=1)\n",
    "    combine_recs.columns = ['similar_user_perc', 'all_user_perc']\n",
    "    combine_recs['score'] = combine_recs['similar_user_perc'] / combine_recs['all_user_perc']\n",
    "    combine_recs = combine_recs.merge(movies, left_on=combine_recs.index, right_on=movies['movieId'])\n",
    "    if my_genre != None:\n",
    "        combine_recs = combine_recs[combine_recs['genres'].str.contains(my_genre)]\n",
    "    combine_recs = combine_recs.sort_values(by='score', ascending=False)\n",
    "    top_ten = combine_recs.head(11).tail(10)\n",
    "    return top_ten[['score','title','genres']]"
   ]
  },
  {
   "cell_type": "code",
   "execution_count": 48,
   "id": "288adfbf",
   "metadata": {},
   "outputs": [
    {
     "data": {
      "text/html": [
       "<div>\n",
       "<style scoped>\n",
       "    .dataframe tbody tr th:only-of-type {\n",
       "        vertical-align: middle;\n",
       "    }\n",
       "\n",
       "    .dataframe tbody tr th {\n",
       "        vertical-align: top;\n",
       "    }\n",
       "\n",
       "    .dataframe thead th {\n",
       "        text-align: right;\n",
       "    }\n",
       "</style>\n",
       "<table border=\"1\" class=\"dataframe\">\n",
       "  <thead>\n",
       "    <tr style=\"text-align: right;\">\n",
       "      <th></th>\n",
       "      <th>score</th>\n",
       "      <th>title</th>\n",
       "      <th>genres</th>\n",
       "    </tr>\n",
       "  </thead>\n",
       "  <tbody>\n",
       "    <tr>\n",
       "      <th>10</th>\n",
       "      <td>5.923467</td>\n",
       "      <td>Toy Story 2</td>\n",
       "      <td>Adventure|Animation|Children|Comedy|Fantasy</td>\n",
       "    </tr>\n",
       "    <tr>\n",
       "      <th>62</th>\n",
       "      <td>4.834345</td>\n",
       "      <td>Toy Story 3</td>\n",
       "      <td>Adventure|Animation|Children|Comedy|Fantasy|IMAX</td>\n",
       "    </tr>\n",
       "    <tr>\n",
       "      <th>34</th>\n",
       "      <td>3.627223</td>\n",
       "      <td>Monsters, Inc.</td>\n",
       "      <td>Adventure|Animation|Children|Comedy|Fantasy</td>\n",
       "    </tr>\n",
       "    <tr>\n",
       "      <th>20</th>\n",
       "      <td>3.479433</td>\n",
       "      <td>Aladdin</td>\n",
       "      <td>Adventure|Animation|Children|Comedy|Musical</td>\n",
       "    </tr>\n",
       "    <tr>\n",
       "      <th>40</th>\n",
       "      <td>3.326552</td>\n",
       "      <td>Finding Nemo</td>\n",
       "      <td>Adventure|Animation|Children|Comedy</td>\n",
       "    </tr>\n",
       "    <tr>\n",
       "      <th>23</th>\n",
       "      <td>3.183341</td>\n",
       "      <td>Beauty and the Beast</td>\n",
       "      <td>Animation|Children|Fantasy|Musical|Romance|IMAX</td>\n",
       "    </tr>\n",
       "    <tr>\n",
       "      <th>14</th>\n",
       "      <td>3.059883</td>\n",
       "      <td>Lion King, The</td>\n",
       "      <td>Adventure|Animation|Children|Drama|Musical|IMAX</td>\n",
       "    </tr>\n",
       "    <tr>\n",
       "      <th>50</th>\n",
       "      <td>3.047154</td>\n",
       "      <td>Willy Wonka &amp; the Chocolate Factory</td>\n",
       "      <td>Children|Comedy|Fantasy|Musical</td>\n",
       "    </tr>\n",
       "    <tr>\n",
       "      <th>54</th>\n",
       "      <td>3.001925</td>\n",
       "      <td>Incredibles, The</td>\n",
       "      <td>Action|Adventure|Animation|Children|Comedy</td>\n",
       "    </tr>\n",
       "    <tr>\n",
       "      <th>55</th>\n",
       "      <td>2.819701</td>\n",
       "      <td>Wallace &amp; Gromit: The Wrong Trousers</td>\n",
       "      <td>Animation|Children|Comedy|Crime</td>\n",
       "    </tr>\n",
       "  </tbody>\n",
       "</table>\n",
       "</div>"
      ],
      "text/plain": [
       "       score                                 title  \\\n",
       "10  5.923467                           Toy Story 2   \n",
       "62  4.834345                           Toy Story 3   \n",
       "34  3.627223                        Monsters, Inc.   \n",
       "20  3.479433                               Aladdin   \n",
       "40  3.326552                          Finding Nemo   \n",
       "23  3.183341                  Beauty and the Beast   \n",
       "14  3.059883                        Lion King, The   \n",
       "50  3.047154   Willy Wonka & the Chocolate Factory   \n",
       "54  3.001925                      Incredibles, The   \n",
       "55  2.819701  Wallace & Gromit: The Wrong Trousers   \n",
       "\n",
       "                                              genres  \n",
       "10       Adventure|Animation|Children|Comedy|Fantasy  \n",
       "62  Adventure|Animation|Children|Comedy|Fantasy|IMAX  \n",
       "34       Adventure|Animation|Children|Comedy|Fantasy  \n",
       "20       Adventure|Animation|Children|Comedy|Musical  \n",
       "40               Adventure|Animation|Children|Comedy  \n",
       "23   Animation|Children|Fantasy|Musical|Romance|IMAX  \n",
       "14   Adventure|Animation|Children|Drama|Musical|IMAX  \n",
       "50                   Children|Comedy|Fantasy|Musical  \n",
       "54        Action|Adventure|Animation|Children|Comedy  \n",
       "55                   Animation|Children|Comedy|Crime  "
      ]
     },
     "execution_count": 48,
     "metadata": {},
     "output_type": "execute_result"
    }
   ],
   "source": [
    "get_10_recommendations('Toy Story')"
   ]
  },
  {
   "cell_type": "code",
   "execution_count": 51,
   "id": "52e31396",
   "metadata": {},
   "outputs": [
    {
     "data": {
      "text/html": [
       "<div>\n",
       "<style scoped>\n",
       "    .dataframe tbody tr th:only-of-type {\n",
       "        vertical-align: middle;\n",
       "    }\n",
       "\n",
       "    .dataframe tbody tr th {\n",
       "        vertical-align: top;\n",
       "    }\n",
       "\n",
       "    .dataframe thead th {\n",
       "        text-align: right;\n",
       "    }\n",
       "</style>\n",
       "<table border=\"1\" class=\"dataframe\">\n",
       "  <thead>\n",
       "    <tr style=\"text-align: right;\">\n",
       "      <th></th>\n",
       "      <th>score</th>\n",
       "      <th>title</th>\n",
       "      <th>genres</th>\n",
       "    </tr>\n",
       "  </thead>\n",
       "  <tbody>\n",
       "    <tr>\n",
       "      <th>10</th>\n",
       "      <td>5.923467</td>\n",
       "      <td>Toy Story 2</td>\n",
       "      <td>Adventure|Animation|Children|Comedy|Fantasy</td>\n",
       "    </tr>\n",
       "    <tr>\n",
       "      <th>62</th>\n",
       "      <td>4.834345</td>\n",
       "      <td>Toy Story 3</td>\n",
       "      <td>Adventure|Animation|Children|Comedy|Fantasy|IMAX</td>\n",
       "    </tr>\n",
       "    <tr>\n",
       "      <th>34</th>\n",
       "      <td>3.627223</td>\n",
       "      <td>Monsters, Inc.</td>\n",
       "      <td>Adventure|Animation|Children|Comedy|Fantasy</td>\n",
       "    </tr>\n",
       "    <tr>\n",
       "      <th>20</th>\n",
       "      <td>3.479433</td>\n",
       "      <td>Aladdin</td>\n",
       "      <td>Adventure|Animation|Children|Comedy|Musical</td>\n",
       "    </tr>\n",
       "    <tr>\n",
       "      <th>40</th>\n",
       "      <td>3.326552</td>\n",
       "      <td>Finding Nemo</td>\n",
       "      <td>Adventure|Animation|Children|Comedy</td>\n",
       "    </tr>\n",
       "    <tr>\n",
       "      <th>50</th>\n",
       "      <td>3.047154</td>\n",
       "      <td>Willy Wonka &amp; the Chocolate Factory</td>\n",
       "      <td>Children|Comedy|Fantasy|Musical</td>\n",
       "    </tr>\n",
       "    <tr>\n",
       "      <th>54</th>\n",
       "      <td>3.001925</td>\n",
       "      <td>Incredibles, The</td>\n",
       "      <td>Action|Adventure|Animation|Children|Comedy</td>\n",
       "    </tr>\n",
       "    <tr>\n",
       "      <th>55</th>\n",
       "      <td>2.819701</td>\n",
       "      <td>Wallace &amp; Gromit: The Wrong Trousers</td>\n",
       "      <td>Animation|Children|Comedy|Crime</td>\n",
       "    </tr>\n",
       "    <tr>\n",
       "      <th>48</th>\n",
       "      <td>2.623763</td>\n",
       "      <td>Shrek</td>\n",
       "      <td>Adventure|Animation|Children|Comedy|Fantasy|Ro...</td>\n",
       "    </tr>\n",
       "    <tr>\n",
       "      <th>16</th>\n",
       "      <td>2.419551</td>\n",
       "      <td>Back to the Future</td>\n",
       "      <td>Adventure|Comedy|Sci-Fi</td>\n",
       "    </tr>\n",
       "  </tbody>\n",
       "</table>\n",
       "</div>"
      ],
      "text/plain": [
       "       score                                 title  \\\n",
       "10  5.923467                           Toy Story 2   \n",
       "62  4.834345                           Toy Story 3   \n",
       "34  3.627223                        Monsters, Inc.   \n",
       "20  3.479433                               Aladdin   \n",
       "40  3.326552                          Finding Nemo   \n",
       "50  3.047154   Willy Wonka & the Chocolate Factory   \n",
       "54  3.001925                      Incredibles, The   \n",
       "55  2.819701  Wallace & Gromit: The Wrong Trousers   \n",
       "48  2.623763                                 Shrek   \n",
       "16  2.419551                    Back to the Future   \n",
       "\n",
       "                                               genres  \n",
       "10        Adventure|Animation|Children|Comedy|Fantasy  \n",
       "62   Adventure|Animation|Children|Comedy|Fantasy|IMAX  \n",
       "34        Adventure|Animation|Children|Comedy|Fantasy  \n",
       "20        Adventure|Animation|Children|Comedy|Musical  \n",
       "40                Adventure|Animation|Children|Comedy  \n",
       "50                    Children|Comedy|Fantasy|Musical  \n",
       "54         Action|Adventure|Animation|Children|Comedy  \n",
       "55                    Animation|Children|Comedy|Crime  \n",
       "48  Adventure|Animation|Children|Comedy|Fantasy|Ro...  \n",
       "16                            Adventure|Comedy|Sci-Fi  "
      ]
     },
     "execution_count": 51,
     "metadata": {},
     "output_type": "execute_result"
    }
   ],
   "source": [
    "get_10_recommendations('Toy Story', 'Comedy')"
   ]
  },
  {
   "cell_type": "code",
   "execution_count": null,
   "id": "f5dd9674",
   "metadata": {},
   "outputs": [],
   "source": []
  }
 ],
 "metadata": {
  "kernelspec": {
   "display_name": "Python 3 (ipykernel)",
   "language": "python",
   "name": "python3"
  },
  "language_info": {
   "codemirror_mode": {
    "name": "ipython",
    "version": 3
   },
   "file_extension": ".py",
   "mimetype": "text/x-python",
   "name": "python",
   "nbconvert_exporter": "python",
   "pygments_lexer": "ipython3",
   "version": "3.9.12"
  }
 },
 "nbformat": 4,
 "nbformat_minor": 5
}
